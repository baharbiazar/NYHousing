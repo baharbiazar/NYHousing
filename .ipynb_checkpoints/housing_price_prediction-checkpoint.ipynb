{
 "cells": [
  {
   "cell_type": "markdown",
   "metadata": {},
   "source": [
    "# Imports"
   ]
  },
  {
   "cell_type": "code",
   "execution_count": null,
   "metadata": {},
   "outputs": [],
   "source": [
    "import pandas as pd\n",
    "import seaborn as sn\n",
    "import numpy as np\n",
    "import matplotlib.pyplot as plt\n",
    "from scipy import stats\n",
    "import datetime\n",
    "from sklearn.model_selection import train_test_split\n",
    "from sklearn.metrics import mean_squared_error, r2_score\n",
    "from sklearn.model_selection import KFold\n",
    "from sklearn.model_selection import cross_val_score\n",
    "\n",
    "import catboost as cb\n",
    "\n",
    "# turn off warnings \n",
    "import warnings\n",
    "warnings.filterwarnings(\"ignore\")"
   ]
  },
  {
   "cell_type": "markdown",
   "metadata": {},
   "source": [
    "# Functions"
   ]
  },
  {
   "cell_type": "code",
   "execution_count": null,
   "metadata": {},
   "outputs": [],
   "source": [
    "def detect_outlier(df, col):\n",
    "    Q1= df[col].quantile(0.25)\n",
    "    Q3= df[col].quantile(0.75)\n",
    "    IQR = Q3 - Q1\n",
    "    \n",
    "    lower_bound = Q1 - 1.5 * IQR\n",
    "    upper_bound = Q3 + 1.5 * IQR\n",
    "    \n",
    "    outliers_index = df.index[ (df[col] < lower_bound) | (df[col] > upper_bound)]\n",
    "    lower_outliers_index = df.index[ (df[col] < lower_bound)]\n",
    "    upper_outliers_index = df.index[ (df[col] > upper_bound)]\n",
    "    \n",
    "    return outliers_index, lower_outliers_index, upper_outliers_index\n",
    "\n",
    "\n",
    "def remove_outlier(df , ls):\n",
    "    ls = sorted(set(ls))\n",
    "    clean_df= df.drop(ls)\n",
    "    \n",
    "    return clean_df"
   ]
  },
  {
   "cell_type": "markdown",
   "metadata": {},
   "source": [
    "# Raw Data"
   ]
  },
  {
   "cell_type": "code",
   "execution_count": null,
   "metadata": {},
   "outputs": [],
   "source": [
    "raw_data = pd.read_csv('newyork_housing.csv')\n",
    "raw_data.shape"
   ]
  },
  {
   "cell_type": "markdown",
   "metadata": {},
   "source": [
    "# Data Prep"
   ]
  },
  {
   "cell_type": "code",
   "execution_count": null,
   "metadata": {},
   "outputs": [],
   "source": [
    "# getting rid of columns that contain photos\n",
    "raw_data = raw_data[raw_data.columns.drop(list(raw_data.filter(regex='photos')))]\n",
    "\n",
    "# getting rid of columns that priceHistory\n",
    "raw_data = raw_data[raw_data.columns.drop(list(raw_data.filter(regex='priceHistory')))]\n",
    "\n",
    "# getting rid of columns >> accessibilityFeatures : It's all NULL \n",
    "raw_data = raw_data[raw_data.columns.drop(list(raw_data.filter(regex='accessibilityFeatures')))]\n",
    "\n",
    "\n",
    "# drop NULL values for on market date : we need to know which ones have a date \n",
    "raw_data = raw_data.dropna(subset = ['resoFactsStats/onMarketDate'])\n",
    "\n",
    "# Only keep sold or recently sold properties \n",
    "raw_data = raw_data[(raw_data['homeStatus'] == 'SOLD') | (raw_data['homeStatus'] == 'RECENTLY_SOLD')]\n",
    "\n",
    "#To clean lot size and unify units: replace comma, extract only numbers from col\n",
    "raw_data['resoFactsStats/lotSize']= raw_data['resoFactsStats/lotSize'].str.replace(',','')\n",
    "#split by space\n",
    "raw_data[['lotsize','unit']] = raw_data[\"resoFactsStats/lotSize\"].str.split(\" \", 1, expand=True)\n",
    "#convert string to float\n",
    "raw_data['lotsize']=raw_data['lotsize'].astype(float)\n",
    "# convert acre to sqft\n",
    "raw_data['lot_size_sqf'] = raw_data['lotsize'].apply(lambda x: x * 43560 if x < 100 else x)\n",
    "\n",
    "\n",
    "#replace comma, extract only numbers from col , and replace Nan with 0 for hoa\n",
    "raw_data['resoFactsStats/associationFee']= raw_data['resoFactsStats/associationFee'].str.replace(',','')\n",
    "raw_data['resoFactsStats/associationFee']= raw_data['resoFactsStats/associationFee'].str.extract('(\\d+)')\n",
    "raw_data['hoa']=raw_data['resoFactsStats/associationFee'].fillna(0)\n",
    "\n",
    "\n",
    "# Convert the weird data format and only keep properties after 2020-05 based on their distribution plot\n",
    "raw_data['y-m'] =raw_data['resoFactsStats/onMarketDate'].apply(lambda d: datetime.datetime.fromtimestamp(int(d)/1000).strftime('%Y-%m'))\n",
    "#raw_data['y-m'].value_counts().sort_index(ascending = True).plot()#raw_data['y-m'].value_counts().sort_index(ascending = True).plot()\n",
    "#raw_data['y-m'].value_counts().sort_index(ascending = False)\n",
    "\n",
    "#replace NaN with 0 \n",
    "raw_data['resoFactsStats/hasFireplace'].fillna(0, inplace = True)\n",
    "\n",
    "#replace NaN first with '0', then create another column that is binary and shows if a property have basement or not \n",
    "raw_data['resoFactsStats/basement'].fillna('0', inplace = True)\n",
    "raw_data['basement'] = raw_data['resoFactsStats/basement'].apply(lambda x: 0 if x == 'None' or x== '0' else 1)\n",
    "\n",
    "\n",
    "# convert to rigth data types\n",
    "raw_data=raw_data.astype({'hoa': 'float'})\n",
    "raw_data=raw_data.astype({'resoFactsStats/hasFireplace': 'float'})\n",
    "\n",
    "## Extracting timefarme with the highest ferquency\n",
    "df= raw_data[raw_data['y-m']>='2020-05']\n",
    "\n",
    "\n",
    "want_cols= ['bathrooms', \n",
    "            'bedrooms', \n",
    "            'yearBuilt', \n",
    "            'propertyTaxRate',\n",
    "            'livingArea',\n",
    "            'lot_size_sqf',\n",
    "            'schools/0/rating',\n",
    "            'hoa',\n",
    "            'resoFactsStats/garageSpaces',\n",
    "            'resoFactsStats/hasFireplace',\n",
    "            'basement',\n",
    "            'latitude',\n",
    "            'longitude',\n",
    "            'price'\n",
    "            ]\n",
    "\n",
    "df = df[want_cols]\n",
    "df.rename({\n",
    "            #'resoFactsStats/hasGarage' : 'hasGarage', garage spaces have the same impact, maybe even better\n",
    "            'resoFactsStats/garageSpaces' : 'garageSpaces',\n",
    "            'resoFactsStats/hasFireplace' : 'hasFireplace',\n",
    "            'propertyTaxRate' : 'propTax',\n",
    "            'schools/0/rating': 'schlRnk',\n",
    "              }, axis=1, inplace=True)"
   ]
  },
  {
   "cell_type": "markdown",
   "metadata": {},
   "source": [
    "# Removing outliers"
   ]
  },
  {
   "cell_type": "code",
   "execution_count": null,
   "metadata": {},
   "outputs": [],
   "source": [
    "# take out price outliers\n",
    "outliers_index, lower_index, upper_index = detect_outlier(df, 'price')\n",
    "#remove lower bound\n",
    "clean_df= remove_outlier(df, lower_index.tolist())\n",
    "# remove prices over 2M\n",
    "clean_df = clean_df[clean_df['price'] <= 2000000]\n",
    "\n",
    "#remove outlier of garageSpaces\n",
    "clean_df = clean_df[clean_df['garageSpaces'] <= 6]\n",
    "\n",
    "#take out lot_sie_sqf outlier out\n",
    "clean_df=clean_df[clean_df['lot_size_sqf']<=10000]\n",
    "\n",
    "#take out outlier\n",
    "clean_df=clean_df[clean_df['bedrooms']<10]\n",
    "\n",
    "# eliminate hoa outliers\n",
    "clean_df= clean_df[clean_df['hoa']<=2000]"
   ]
  },
  {
   "cell_type": "code",
   "execution_count": null,
   "metadata": {},
   "outputs": [],
   "source": [
    "## Plots that help reviewing data\n",
    "\n",
    "\n",
    "fig, ax =plt.subplots(figsize=(20,2))\n",
    "sn.histplot(x = clean_df['price'] )\n",
    "\n",
    "# right skewed \n",
    "sn.histplot(clean_df[clean_df['lot_size_sqf']<10000].lot_size_sqf)\n",
    "\n",
    "# right skewed\n",
    "sn.histplot(clean_df['latitude'])\n",
    "\n",
    "# right skewed\n",
    "sn.histplot(clean_df['longitude'])\n",
    "\n",
    "# right skewed\n",
    "sn.histplot(clean_df['bathrooms'])\n",
    "\n",
    "# right skewed\n",
    "sn.set(rc={\"figure.figsize\":(6, 4)})\n",
    "sn.histplot(clean_df['bedrooms'])\n",
    "\n",
    "sn.scatterplot(x= 'basement_',\n",
    "                    y=\"bathrooms\",\n",
    "                    data= clean_df)\n",
    "\n",
    "# meh\n",
    "sn.set(rc={\"figure.figsize\":(6, 4)})\n",
    "sn.histplot(clean_df['yearBuilt'])\n",
    "\n",
    "# meh\n",
    "sn.histplot(clean_df['propTax'])\n",
    "\n",
    "# good\n",
    "sn.histplot(clean_df['schlRnk'])\n",
    "\n",
    "# right skewed >> better to keep under 1000 or 2000; or give them the max of hoa we want to keep: so we don't drop too much\n",
    "sn.histplot(clean_df['hoa'])\n",
    "\n",
    "# right skewed\n",
    "sn.histplot(clean_df['garageSpaces'])\n",
    "\n",
    "# right skewed\n",
    "sn.histplot(clean_df['hasFireplace'])\n",
    "\n",
    "# good\n",
    "sn.histplot(clean_df['basement'])\n",
    "\n",
    "# LivingArea vs. Price\n",
    "sn.scatterplot(x= 'livingArea',\n",
    "                    y=\"price\",\n",
    "                    data= clean_df)"
   ]
  },
  {
   "cell_type": "code",
   "execution_count": null,
   "metadata": {},
   "outputs": [],
   "source": [
    "import matplotlib.pyplot as plt\n",
    "# Define the number of rows and columns you want\n",
    "sn.set(rc={\"figure.figsize\":(16, 20)})\n",
    "#plt.figure(figsize=(10,20))\n",
    "n_rows=17\n",
    "n_cols=1\n",
    "# Create the subplots\n",
    "fig, axes = plt.subplots(nrows=n_rows, ncols=n_cols)\n",
    "\n",
    "for i, column in enumerate(clean_df.columns):\n",
    "    sn.histplot(df[column],ax=axes[i])"
   ]
  },
  {
   "cell_type": "code",
   "execution_count": null,
   "metadata": {},
   "outputs": [],
   "source": [
    "sn.pairplot(clean_df)"
   ]
  },
  {
   "cell_type": "code",
   "execution_count": null,
   "metadata": {
    "scrolled": true
   },
   "outputs": [],
   "source": [
    "for i in clean_df.columns:\n",
    "    print(i,' NULL %= ', (clean_df[i].isnull().sum() * 100) / 6711)"
   ]
  },
  {
   "cell_type": "markdown",
   "metadata": {},
   "source": [
    "# X and y"
   ]
  },
  {
   "cell_type": "code",
   "execution_count": null,
   "metadata": {},
   "outputs": [],
   "source": [
    "#clean_df.head()\n",
    "X = clean_df.iloc[:,:-1]\n",
    "y = clean_df['price']\n",
    "\n",
    "# train set and remaining set:\n",
    "X_train, X_remain, y_train, y_remain = train_test_split(X, y, test_size = 0.2, random_state=5)\n",
    "\n",
    "# Splitting remaining set to test set and validation set(houdout)\n",
    "X_test, X_valid, y_test, y_valid = train_test_split(X_remain, y_remain, test_size = 0.5, random_state=5)\n",
    "\n",
    "y.shape, X.shape, X_train.shape, X_test.shape, X_valid.shape"
   ]
  },
  {
   "cell_type": "markdown",
   "metadata": {},
   "source": [
    "## Catboost Model"
   ]
  },
  {
   "cell_type": "code",
   "execution_count": null,
   "metadata": {},
   "outputs": [],
   "source": [
    "model_c = cb.CatBoostRegressor(loss_function='RMSE') #try R2 as well\n",
    "\n",
    "model_c.fit(X_train, y_train, plot= True, eval_set=(X_valid, y_valid), verbose = False )\n",
    "#epochs maybe 200\n"
   ]
  },
  {
   "cell_type": "code",
   "execution_count": null,
   "metadata": {},
   "outputs": [],
   "source": [
    "#cv_16_results = cross_val_score(model_c, X_train, y_train, cv=16, verbose= True)"
   ]
  },
  {
   "cell_type": "code",
   "execution_count": null,
   "metadata": {},
   "outputs": [],
   "source": [
    "cv_16_results"
   ]
  },
  {
   "cell_type": "code",
   "execution_count": null,
   "metadata": {},
   "outputs": [],
   "source": [
    "pred_c = model_c.predict(X_test)\n",
    "rmse = (np.sqrt(mean_squared_error(y_test, pred_c)))\n",
    "r2 = r2_score(y_test, pred_c)\n",
    "print('Testing performance')\n",
    "print('RMSE: {:.2f}'.format(rmse))\n",
    "print('R2: {:.2f}'.format(r2))"
   ]
  },
  {
   "cell_type": "code",
   "execution_count": null,
   "metadata": {},
   "outputs": [],
   "source": [
    "ax = sn.scatterplot(x= pred_c, y= y_test, alpha = .4, \n",
    "              color = 'Black')\n",
    "ax.set(xlabel='predicted', ylabel='actual')\n",
    "plt.savefig('pred.png', bbox_inches='tight')\n",
    "plt.show()"
   ]
  },
  {
   "cell_type": "code",
   "execution_count": null,
   "metadata": {},
   "outputs": [],
   "source": [
    "sn.regplot(x= pred_c, y= y_test)"
   ]
  },
  {
   "cell_type": "code",
   "execution_count": null,
   "metadata": {},
   "outputs": [],
   "source": [
    "feature_importance = model_c.feature_importances_\n",
    "sorted_idx = np.argsort(feature_importance)\n",
    "fig = plt.figure(figsize=(12, 6))\n",
    "plt.barh(range(len(sorted_idx)), feature_importance[sorted_idx], align='center')\n",
    "plt.yticks(range(len(sorted_idx)), np.array(X_test.columns)[sorted_idx])\n",
    "plt.title('Feature Importance')"
   ]
  },
  {
   "cell_type": "code",
   "execution_count": null,
   "metadata": {},
   "outputs": [],
   "source": [
    "import shap"
   ]
  },
  {
   "cell_type": "code",
   "execution_count": null,
   "metadata": {},
   "outputs": [],
   "source": [
    "# Create object that can calculate shap values\n",
    "explainer = shap.TreeExplainer(model_c)\n",
    "# Calculate Shap values\n",
    "shap_values = explainer.shap_values(X_train)"
   ]
  },
  {
   "cell_type": "code",
   "execution_count": null,
   "metadata": {},
   "outputs": [],
   "source": [
    "features = X.columns\n",
    "shap.summary_plot(shap_values, X_train, feature_names=features, plot_type=\"bar\", )"
   ]
  },
  {
   "cell_type": "code",
   "execution_count": null,
   "metadata": {},
   "outputs": [],
   "source": [
    "shap.summary_plot(shap_values, X_train, feature_names=features)"
   ]
  },
  {
   "cell_type": "code",
   "execution_count": null,
   "metadata": {},
   "outputs": [],
   "source": [
    "X_train.columns"
   ]
  },
  {
   "cell_type": "code",
   "execution_count": null,
   "metadata": {},
   "outputs": [],
   "source": [
    "X_train.dtypes"
   ]
  },
  {
   "cell_type": "code",
   "execution_count": null,
   "metadata": {},
   "outputs": [],
   "source": [
    "inputs.head()"
   ]
  },
  {
   "cell_type": "code",
   "execution_count": null,
   "metadata": {},
   "outputs": [],
   "source": [
    "X_train.head()"
   ]
  },
  {
   "cell_type": "code",
   "execution_count": null,
   "metadata": {},
   "outputs": [],
   "source": [
    "X_train.iloc[0]"
   ]
  },
  {
   "cell_type": "code",
   "execution_count": null,
   "metadata": {},
   "outputs": [],
   "source": [
    "shap.summary_plot(shap_values, X_train.head(), feature_names=features)"
   ]
  },
  {
   "cell_type": "code",
   "execution_count": null,
   "metadata": {},
   "outputs": [],
   "source": [
    "inputs = pd.DataFrame({'bathrooms': [2], 'bedrooms': [3], 'yearBuilt': [1980], 'propTax': [0.8], 'livingArea': [2500],\n",
    "       'lot_size_sqf': [5000], 'schlRnk' :[5], 'hoa': [0], 'garageSpaces': [2], 'hasFireplace' :[1],\n",
    "       'basement':[1], 'latitude' : [40.60], 'longitude' : [-74.10]}) \n",
    "shap_values = explainer.shap_values(inputs)\n",
    "shap.summary_plot(shap_values, inputs, feature_names=features)"
   ]
  },
  {
   "cell_type": "markdown",
   "metadata": {},
   "source": [
    "# Save the model"
   ]
  },
  {
   "cell_type": "code",
   "execution_count": null,
   "metadata": {},
   "outputs": [],
   "source": [
    "import pickle\n",
    "  \n",
    "filename = 'finalized_model.sav'\n",
    "pickle.dump(model_c, open(filename, 'wb'))"
   ]
  },
  {
   "cell_type": "code",
   "execution_count": null,
   "metadata": {},
   "outputs": [],
   "source": [
    "# some time later...\n",
    " \n",
    "# load the model from disk\n",
    "loaded_model = pickle.load(open(filename, 'rb'))\n",
    "result = loaded_model.score(X_test, y_test)\n",
    "print(result)"
   ]
  },
  {
   "cell_type": "markdown",
   "metadata": {},
   "source": [
    "## Evaluation Metrics for Regression\n",
    " * MAE:Mean Absolute Error\n",
    " * MSE : Mean Squared Error \n",
    " * RMSE : Root Mean Squared error\n",
    " * R2 score: Coefficient of determination , Goodness of fit\n",
    " * Adjusted R2 score\n",
    "        "
   ]
  },
  {
   "cell_type": "code",
   "execution_count": null,
   "metadata": {},
   "outputs": [],
   "source": [
    "clean_df.isnull().sum()"
   ]
  },
  {
   "cell_type": "markdown",
   "metadata": {},
   "source": [
    "# Random Forest "
   ]
  },
  {
   "cell_type": "code",
   "execution_count": null,
   "metadata": {},
   "outputs": [],
   "source": [
    "from sklearn.ensemble import RandomForestRegressor"
   ]
  },
  {
   "cell_type": "code",
   "execution_count": null,
   "metadata": {},
   "outputs": [],
   "source": [
    "model3 = RandomForestRegressor(n_estimators= 500, random_state = 5)\n",
    "model3.fit(X_train2, y_train2)\n",
    "pred3= model3.predict(X_test2) \n",
    "rmse3 = (np.sqrt(mean_squared_error(y_test2, pred3)))\n",
    "r23 = r2_score(y_test2, pred3)\n",
    "print('Testing performance')\n",
    "print('RMSE: {:.2f}'.format(rmse3))\n",
    "print('R2: {:.2f}'.format(r23))"
   ]
  }
 ],
 "metadata": {
  "kernelspec": {
   "display_name": "Python 3 (ipykernel)",
   "language": "python",
   "name": "python3"
  },
  "language_info": {
   "codemirror_mode": {
    "name": "ipython",
    "version": 3
   },
   "file_extension": ".py",
   "mimetype": "text/x-python",
   "name": "python",
   "nbconvert_exporter": "python",
   "pygments_lexer": "ipython3",
   "version": "3.9.13"
  }
 },
 "nbformat": 4,
 "nbformat_minor": 4
}
